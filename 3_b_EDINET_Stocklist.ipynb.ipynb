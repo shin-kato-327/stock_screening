{
 "cells": [
  {
   "cell_type": "code",
   "execution_count": 1,
   "id": "cfd4fa15-3da1-4cac-9bd4-08529bd7159d",
   "metadata": {},
   "outputs": [],
   "source": [
    "import pandas as pd\n",
    "from sqlalchemy import create_engine, Column, String, Integer, MetaData, Table\n",
    "from sqlalchemy.dialects.postgresql import NUMERIC, BIGINT\n",
    "import psycopg2\n",
    "import glob\n",
    "import shutil\n",
    "import os\n",
    "import codecs\n",
    "import json\n",
    "\n",
    "# load const\n",
    "with open('parameters.json', 'r') as file:\n",
    "    data = json.load(file)\n",
    "\n",
    "#establish connection with PG\n",
    "# Define the database connection string (update with your PostgreSQL details)\n",
    "DATABASE_URI = data[\"DATABASE_URI\"]\n",
    "\n",
    "# Create an engine and metadata object\n",
    "engine = create_engine(DATABASE_URI)\n",
    "metadata = MetaData()"
   ]
  },
  {
   "cell_type": "code",
   "execution_count": 2,
   "id": "e8a71ba5-f0de-44f9-ab51-f48ee3916196",
   "metadata": {},
   "outputs": [],
   "source": [
    "import codecs\n",
    "#df_csv = df = pd.read_csv(\"./csv_data/EdinetcodeDlInfo.csv\", skiprows=1)\n",
    "\n",
    "with codecs.open(\"./csv_data/EdinetcodeDlInfo.csv\", \"r\", \"Shift-JIS\", \"ignore\") as file:\n",
    "    # Skip the first row and make the second row the header\n",
    "    df = pd.read_table(file, delimiter=\",\", header=1)\n",
    "\n",
    "#df.to_sql('t_edinet_code_mappings', engine, if_exists='replace', index=False)"
   ]
  }
 ],
 "metadata": {
  "kernelspec": {
   "display_name": "Python 3 (ipykernel)",
   "language": "python",
   "name": "python3"
  },
  "language_info": {
   "codemirror_mode": {
    "name": "ipython",
    "version": 3
   },
   "file_extension": ".py",
   "mimetype": "text/x-python",
   "name": "python",
   "nbconvert_exporter": "python",
   "pygments_lexer": "ipython3",
   "version": "3.12.4"
  }
 },
 "nbformat": 4,
 "nbformat_minor": 5
}
