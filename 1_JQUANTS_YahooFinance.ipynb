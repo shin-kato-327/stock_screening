{
 "cells": [
  {
   "cell_type": "markdown",
   "id": "7e573d63-f43e-40b8-a34b-c47d9d5460d6",
   "metadata": {},
   "source": [
    "- This notebook\n",
    "  - calls JQUANTS API to get the list of the stocks listed in the Tokyo Stock Exchange.\n",
    "  - calls Yahoo Finance API to get the latest stock related information such as Price, PE ratio, market cap etc\n",
    "  - create a CSV file"
   ]
  },
  {
   "cell_type": "code",
   "execution_count": 2,
   "id": "47d40b89-41c8-40a0-85c2-7963638431fa",
   "metadata": {},
   "outputs": [],
   "source": [
    "#import libraries\n",
    "import requests\n",
    "import json\n",
    "import pandas as pd\n",
    "import yfinance as yf\n",
    "import datetime as datetime\n",
    "from tqdm import tqdm\n",
    "import pandas as pd\n",
    "from sqlalchemy import create_engine, Column, String, Integer, MetaData, Table\n",
    "from sqlalchemy.dialects.postgresql import NUMERIC, BIGINT\n",
    "import psycopg2\n",
    "\n",
    "# load const\n",
    "with open('parameters.json', 'r') as file:\n",
    "    data = json.load(file)\n",
    "\n",
    "# Define the database connection string (update with your PostgreSQL details)\n",
    "DATABASE_URI = data[\"DATABASE_URI\"]\n",
    "mail_address = data[\"mailaddress\"]\n",
    "password = data[\"password\"]\n",
    "\n",
    "# Create an engine and metadata object\n",
    "engine = create_engine(DATABASE_URI)\n",
    "metadata = MetaData()"
   ]
  },
  {
   "cell_type": "code",
   "execution_count": 3,
   "id": "54fbafe3-eec6-406e-ac07-ab4d52215473",
   "metadata": {},
   "outputs": [],
   "source": [
    "data={\"mailaddress\":mail_address, \"password\":password}\n",
    "r_post = requests.post(\"https://api.jquants.com/v1/token/auth_user\", data=json.dumps(data))\n",
    "rToken = r_post.json()[\"refreshToken\"]\n",
    "REFRESH_TOKEN = rToken\n",
    "r_post = requests.post(f\"https://api.jquants.com/v1/token/auth_refresh?refreshtoken={REFRESH_TOKEN}\")\n",
    "idToken = r_post.json()[\"idToken\"]"
   ]
  },
  {
   "cell_type": "code",
   "execution_count": 21,
   "id": "6c4cc1e9-7ce4-4731-ae59-879c3d3cf5f9",
   "metadata": {},
   "outputs": [],
   "source": [
    "# 上場銘柄一覧\n",
    "headers = {'Authorization': 'Bearer {}'.format(idToken)}\n",
    "r = requests.get(\"https://api.jquants.com/v1/listed/info\", headers=headers)\n",
    "\n",
    "# Pandas DafaFrameへ変換\n",
    "r_dict = r.json()\n",
    "df = pd.DataFrame(r_dict['info'])"
   ]
  },
  {
   "cell_type": "code",
   "execution_count": 24,
   "id": "0025d7a8-8872-4927-8eee-e27fe9f818ea",
   "metadata": {},
   "outputs": [],
   "source": [
    "df[\"MarketCodeCleansed\"] = df[df[\"MarketCode\"].isin([\"0111\", \"0112\"])][\"Code\"].str[:4] + \".T\""
   ]
  },
  {
   "cell_type": "code",
   "execution_count": 25,
   "id": "43046a85-ae6f-4705-93ae-9b987aeda5e9",
   "metadata": {},
   "outputs": [],
   "source": [
    "ticker = []\n",
    "ticker = df[df[\"MarketCode\"].isin([\"0111\", \"0112\"])][\"MarketCodeCleansed\"].values.tolist()"
   ]
  },
  {
   "cell_type": "code",
   "execution_count": 27,
   "id": "f168291c-5a90-4a4b-928a-e0c4df554819",
   "metadata": {},
   "outputs": [
    {
     "name": "stderr",
     "output_type": "stream",
     "text": [
      "  0%|                                                                                                            | 0/3257 [00:00<?, ?it/s]/var/folders/4d/73_4mvkd4nsc69k9dpv182fr0000gn/T/ipykernel_13498/2638317538.py:16: FutureWarning: The behavior of DataFrame concatenation with empty or all-NA entries is deprecated. In a future version, this will no longer exclude empty or all-NA columns when determining the result dtypes. To retain the old behavior, exclude the relevant entries before the concat operation.\n",
      "  df_master_yf = pd.concat([df_master_yf, df_yf_temp], ignore_index=True)\n",
      "  9%|████████▋                                                                                         | 289/3257 [00:29<04:45, 10.40it/s]404 Client Error: Not Found for url: https://query2.finance.yahoo.com/v10/finance/quoteSummary/2412.T?modules=financialData%2CquoteType%2CdefaultKeyStatistics%2CassetProfile%2CsummaryDetail&corsDomain=finance.yahoo.com&formatted=false&symbol=2412.T&crumb=7nSFs6TMVhA\n",
      " 97%|██████████████████████████████████████████████████████████████████████████████████████████████▏  | 3163/3257 [05:22<00:12,  7.29it/s]404 Client Error: Not Found for url: https://query2.finance.yahoo.com/v10/finance/quoteSummary/9783.T?modules=financialData%2CquoteType%2CdefaultKeyStatistics%2CassetProfile%2CsummaryDetail&corsDomain=finance.yahoo.com&formatted=false&symbol=9783.T&crumb=7nSFs6TMVhA\n",
      "100%|█████████████████████████████████████████████████████████████████████████████████████████████████| 3257/3257 [05:32<00:00,  9.79it/s]\n"
     ]
    }
   ],
   "source": [
    "df_master_yf = pd.DataFrame(columns=[\"Code\", \"previousClose\", \"trailingPE\", \"volume\", \"marketCap\", \"fiftyTwoWeekLow\", \"fiftyTwoWeekHigh\", \"revenuePerShare\"])\n",
    "columns_yf = [\"Code\", \"previousClose\", \"trailingPE\", \"volume\", \"marketCap\", \"fiftyTwoWeekLow\", \"fiftyTwoWeekHigh\", \"revenuePerShare\"]\n",
    "listInfo = [\"previousClose\", \"trailingPE\", \"volume\", \"marketCap\", \"fiftyTwoWeekLow\", \"fiftyTwoWeekHigh\", \"revenuePerShare\"]\n",
    "\n",
    "for tk in tqdm(ticker): \n",
    "    stock = yf.Ticker(tk)\n",
    "    data = []\n",
    "    data.append(tk)\n",
    "    for info in listInfo:\n",
    "        try:\n",
    "            data.append(stock.info[info])\n",
    "        except:\n",
    "            data.append(\"0\")     \n",
    "            \n",
    "    df_yf_temp = pd.DataFrame(data=[data], columns=columns_yf)\n",
    "    df_master_yf = pd.concat([df_master_yf, df_yf_temp], ignore_index=True)\n",
    "#df_yf.head()"
   ]
  },
  {
   "cell_type": "code",
   "execution_count": 32,
   "id": "8ef91fdd-cf09-4d99-bf79-abbc0e0fc641",
   "metadata": {},
   "outputs": [],
   "source": [
    "df_master_yf[\"MarketCodeCleansed\"] = df_master_yf[\"Code\"]\n",
    "df_master = pd.merge(df, df_master_yf, on='MarketCodeCleansed')\n",
    "df_master = df_master.drop('Code_y', axis=1)\n",
    "df_master.dropna(subset=[\"trailingPE\", \"marketCap\"], inplace=True)\n",
    "df_master[\"trailingPE\"] = pd.to_numeric(df_master[\"trailingPE\"], errors='coerce')\n",
    "df_master[\"marketCap\"] = pd.to_numeric(df_master[\"marketCap\"], errors='coerce')\n",
    "df_short_list = df_master[(df_master[\"trailingPE\"] < 10) & (df_master[\"marketCap\"] < 50000000000) & (df_master[\"trailingPE\"] > 0.5)].sort_values(by=['trailingPE'])"
   ]
  },
  {
   "cell_type": "code",
   "execution_count": 289,
   "id": "fc1a23d8-b550-4516-bc3e-b90f3f38aa3b",
   "metadata": {},
   "outputs": [
    {
     "data": {
      "text/plain": [
       "569"
      ]
     },
     "execution_count": 289,
     "metadata": {},
     "output_type": "execute_result"
    }
   ],
   "source": [
    "#insert data into PostgresDB\n",
    "df_short_list.to_sql('t_short_list', con=engine, if_exists='append', index=False)"
   ]
  }
 ],
 "metadata": {
  "kernelspec": {
   "display_name": "Python 3 (ipykernel)",
   "language": "python",
   "name": "python3"
  },
  "language_info": {
   "codemirror_mode": {
    "name": "ipython",
    "version": 3
   },
   "file_extension": ".py",
   "mimetype": "text/x-python",
   "name": "python",
   "nbconvert_exporter": "python",
   "pygments_lexer": "ipython3",
   "version": "3.12.4"
  }
 },
 "nbformat": 4,
 "nbformat_minor": 5
}
