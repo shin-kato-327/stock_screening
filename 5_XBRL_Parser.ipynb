{
 "cells": [
  {
   "cell_type": "code",
   "execution_count": 1,
   "id": "514f98b0-2271-4d49-bbad-18408112222e",
   "metadata": {},
   "outputs": [],
   "source": [
    "import pandas as pd\n",
    "import glob\n",
    "import os\n",
    "import sys\n",
    "import re\n",
    "from arelle import Cntlr, ModelManager, XbrlConst\n",
    "from arelle.ModelValue import qname\n",
    "from sqlalchemy import create_engine, Column, String, Integer, MetaData, Table\n",
    "from sqlalchemy.dialects.postgresql import NUMERIC, BIGINT\n",
    "import psycopg2\n",
    "from tqdm import tqdm\n",
    "import numpy\n",
    "import json\n",
    "\n",
    "with open('parameters.json', 'r') as file:\n",
    "    data = json.load(file)\n",
    "\n",
    "#from utils import extract_files_from_zip\n",
    "\n",
    "CONSOLIDATED_OR_NONCONSOLIDATED_COL = \"連結/個別\"\n",
    "pattern = r'/content/([^/]+)/'\n",
    "DATABASE_URI = data[\"DATABASE_URI\"]\n",
    "\n",
    "engine = create_engine(DATABASE_URI)\n",
    "metadata = MetaData()\n",
    "\n",
    "query = \"\"\"\n",
    "select distinct \"docID\" from t_financials;\n",
    "\"\"\""
   ]
  },
  {
   "cell_type": "code",
   "execution_count": 8,
   "id": "be869549-c72a-49b7-a115-dda892999099",
   "metadata": {},
   "outputs": [],
   "source": [
    "#get all the docIds already ingested into PostgresDB\n",
    "df_docid = pd.read_sql(query, engine)\n",
    "ingested_docids = []\n",
    "ingested_docids = df_docid.docID.values"
   ]
  },
  {
   "cell_type": "code",
   "execution_count": 10,
   "id": "9a11d9bc-494f-4cd9-8c53-bcfe6cbe7076",
   "metadata": {},
   "outputs": [],
   "source": [
    "xbrl_file_dirs = list()\n",
    "\n",
    "for xbrl_file_dir in glob.glob('./content/**/**/**/*.xbrl'):\n",
    "    extracted_string = re.search(pattern, xbrl_file_dir).group(1)\n",
    "    if extracted_string not in ingested_docids:\n",
    "        xbrl_file_dirs.append([extracted_string, xbrl_file_dir])"
   ]
  },
  {
   "cell_type": "code",
   "execution_count": 11,
   "id": "b239cad9-e1ee-4eb8-afac-04c61e058a6d",
   "metadata": {},
   "outputs": [
    {
     "name": "stderr",
     "output_type": "stream",
     "text": [
      "100%|███████████████████████████████████████████████████████████████████████████████████████████████████████| 1/1 [00:01<00:00,  1.43s/it]\n"
     ]
    }
   ],
   "source": [
    "#fact_datas = list()\n",
    "\n",
    "for docID, xbrl_file in tqdm(xbrl_file_dirs):\n",
    "#    print(docID)\n",
    "    #ctrl = Cntlr.Cntlr(logFileName='logToPrint')\n",
    "    ctrl = Cntlr.Cntlr()\n",
    "    model_xbrl = ctrl.modelManager.load(xbrl_file)\n",
    "    fact_datas = list()\n",
    "\n",
    "    for fact in model_xbrl.facts:\n",
    "#        print(fact.unit)\n",
    "\n",
    "        if fact.unit is not None and str(fact.unit.value) == 'JPY':\n",
    "            label_ja = fact.concept.label(preferredLabel=None, lang='ja', linkroleHint=None)             \n",
    "            x_value = fact.xValue\n",
    "\n",
    "            if fact.context.startDatetime:\n",
    "                start_date = fact.context.startDatetime\n",
    "            else:\n",
    "                start_date = None\n",
    "            if fact.context.endDatetime:\n",
    "                end_date = fact.context.endDatetime\n",
    "            else:\n",
    "                end_date = None\n",
    "\n",
    "            fact_datas.append([\n",
    "               docID,\n",
    "               label_ja,\n",
    "               x_value,\n",
    "               start_date,\n",
    "               end_date,\n",
    "               fact.contextID,\n",
    "            ])\n",
    "        else:\n",
    "            continue"
   ]
  },
  {
   "cell_type": "code",
   "execution_count": 14,
   "id": "ecc22101-de97-407d-baca-ae9ab802828d",
   "metadata": {},
   "outputs": [
    {
     "data": {
      "text/plain": [
       "155"
      ]
     },
     "execution_count": 14,
     "metadata": {},
     "output_type": "execute_result"
    }
   ],
   "source": [
    "df = pd.DataFrame(fact_datas, columns=['docID','itemName', 'amount', 'periodStart', 'periodEnd', 'categoryID'] )\n",
    "df_d = df[df['categoryID'] == 'CurrentYearDuration']\n",
    "df_i = df[df['categoryID'] == 'CurrentYearInstant']\n",
    "df_m = pd.concat([df_d, df_i])\n",
    "df_m.to_sql('t_financials', con=engine, if_exists='append', index=False) #somehow it errors"
   ]
  }
 ],
 "metadata": {
  "kernelspec": {
   "display_name": "Python 3 (ipykernel)",
   "language": "python",
   "name": "python3"
  },
  "language_info": {
   "codemirror_mode": {
    "name": "ipython",
    "version": 3
   },
   "file_extension": ".py",
   "mimetype": "text/x-python",
   "name": "python",
   "nbconvert_exporter": "python",
   "pygments_lexer": "ipython3",
   "version": "3.12.4"
  }
 },
 "nbformat": 4,
 "nbformat_minor": 5
}
