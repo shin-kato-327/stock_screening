{
 "cells": [
  {
   "cell_type": "markdown",
   "id": "377b19fc-d069-4ffb-931f-babb7ea86c8e",
   "metadata": {},
   "source": [
    "- This notebook calls EDINET API to get the list of documents per day.\n",
    "- This notebook needs to be parameterized to trigger everyday to get the list of documents submitted by a day ago. "
   ]
  },
  {
   "cell_type": "code",
   "execution_count": 3,
   "id": "5d3a2e91-2d10-4b8c-a7aa-c830e6275700",
   "metadata": {},
   "outputs": [],
   "source": [
    "import zipfile\n",
    "import pandas as pd\n",
    "import requests\n",
    "from tqdm import tqdm\n",
    "import datetime\n",
    "import time\n",
    "import json\n",
    "\n",
    "EDINET_API_URL = \"https://disclosure.edinet-fsa.go.jp/api/v2\"\n",
    "\n",
    "# load const\n",
    "with open('parameters.json', 'r') as file:\n",
    "    data = json.load(file)\n",
    "\n",
    "# Define the database connection string (update with your PostgreSQL details)\n",
    "DATABASE_URI = data[\"DATABASE_URI\"]\n",
    "EDINET_KEY = data[\"EDINET_KEY\"]\n",
    "URL = \"https://disclosure.edinet-fsa.go.jp/api/v2/documents.json\""
   ]
  },
  {
   "cell_type": "code",
   "execution_count": 2,
   "id": "9738c388-2c9a-4641-b2d6-a92b31c64bf4",
   "metadata": {},
   "outputs": [],
   "source": [
    "#https://note.com/python_beginner/n/na0e51d80bc35\n",
    "#utility functions\n",
    "\n",
    "class ApiResponseError(Exception): # EDINET APIのHTTPレスポンスが200でも、APIのBODY内でレスポンスが404の時がある\n",
    "    pass\n",
    "\n",
    "def make_day_list(start_date, end_date):\n",
    "    print(\"start_date：\", start_date)\n",
    "    print(\"end_day：\", end_date)\n",
    "\n",
    "    period = end_date - start_date\n",
    "    period = int(period.days)\n",
    "    day_list = []\n",
    "    for d in range(period):\n",
    "        day = start_date + datetime.timedelta(days=d)\n",
    "        day_list.append(day)\n",
    "\n",
    "    day_list.append(end_date)\n",
    "\n",
    "    return day_list\n",
    "\n",
    "\n",
    "def make_doc_id_list(target_date):  \n",
    "    securities_report_doc_list = []\n",
    "    params = {\"date\" : target_date, \"type\" : 2, \"Subscription-Key\" : EDINET_KEY}\n",
    "    time.sleep(10)\n",
    "    \n",
    "    try:   \n",
    "        res = requests.get(URL, params = params)\n",
    "        res.raise_for_status()\n",
    "        json_data = res.json()\n",
    "          \n",
    "        if json_data['metadata']['status'] != '200':\n",
    "            raise ApiResponseError('APIのステータスが200以外のレスポンスです')\n",
    "             \n",
    "        for num in range(len(json_data[\"results\"])):          \n",
    "            securities_report_doc_list.append([\n",
    "                json_data['results'][num]['docID'],\n",
    "                json_data['results'][num]['edinetCode'],\n",
    "                json_data['results'][num]['secCode'],\n",
    "                json_data['results'][num]['JCN'],\n",
    "                json_data['results'][num]['filerName'],\n",
    "                json_data['results'][num]['fundCode'],\n",
    "                json_data['results'][num]['ordinanceCode'],\n",
    "                json_data['results'][num]['formCode'],\n",
    "                json_data['results'][num]['docTypeCode'],\n",
    "                json_data['results'][num]['periodStart'],\n",
    "                json_data['results'][num]['periodEnd'],\n",
    "                json_data['results'][num]['submitDateTime'],\n",
    "                json_data['results'][num]['docDescription'],\n",
    "                json_data['results'][num]['issuerEdinetCode'],\n",
    "                json_data['results'][num]['subjectEdinetCode'],\n",
    "                json_data['results'][num]['currentReportReason'],\n",
    "                json_data['results'][num]['parentDocID'],\n",
    "                json_data['results'][num]['opeDateTime'],\n",
    "                json_data['results'][num]['xbrlFlag'],\n",
    "                json_data['results'][num]['pdfFlag'],\n",
    "                json_data['results'][num]['csvFlag']\n",
    "            ])\n",
    "        return securities_report_doc_list\n",
    "        \n",
    "    except RequestException as e:\n",
    "        print(\"request failed. error=(%s)\", e.response.text)\n",
    "        return securities_report_doc_list\n",
    "        \n",
    "    except ApiResponseError as e:\n",
    "        print(e)\n",
    "        return securities_report_doc_list     "
   ]
  },
  {
   "cell_type": "code",
   "execution_count": 78,
   "id": "6d7fc341-cefb-4a76-a341-8ca1abc75bb9",
   "metadata": {},
   "outputs": [],
   "source": [
    "#https://zenn.dev/robes/articles/f6dfcc5cfbbdb6"
   ]
  },
  {
   "cell_type": "code",
   "execution_count": 23,
   "id": "aa275737-0a17-4e69-80bc-9ac82e649b19",
   "metadata": {},
   "outputs": [
    {
     "name": "stdout",
     "output_type": "stream",
     "text": [
      "start_date： 2024-07-22\n",
      "end_day： 2024-07-23\n"
     ]
    },
    {
     "name": "stderr",
     "output_type": "stream",
     "text": [
      "100%|███████████████████████████████████████████████████████████████████████████████████████████████████████| 2/2 [00:21<00:00, 10.73s/it]\n"
     ]
    }
   ],
   "source": [
    "start_date = datetime.date(2024, 7, 22)\n",
    "end_date = datetime.date(2024, 7, 23)\n",
    "securities_report_doc_list = []\n",
    "columns = [\"docID\",\"edinetCode\", \"secCode\", \"JCN\", \"filerName\", \"fundCode\", \"ordinanceCode\", \"formCode\", \"docTypeCode\", \"periodStart\", \"periodEnd\", \"submitDateTime\", \"docDescription\", \"issuerEdinetCode\", \"subjectEdinetCode\", \"currentReportReason\", \"parentDocID\", \"opeDateTime\", \"xbrlFlag\", \"pdfFlag\", \"csvFlag\"]\n",
    "\n",
    "#print(start_date.strftime('%Y%m%d'))\n",
    "day_list = make_day_list(start_date, end_date)\n",
    "\n",
    "for target_date in tqdm(day_list):\n",
    "    # 1日の有報を取得する\n",
    "    daily_reports = make_doc_id_list(target_date)\n",
    "    securities_report_doc_list.extend(daily_reports)\n",
    "\n",
    "df = pd.DataFrame(data = securities_report_doc_list, columns=columns)\n",
    "df[(df[\"formCode\"]==\"030000\") & (df[\"ordinanceCode\"]==\"010\")].to_csv(f'./csv_data/documentList/{start_date}_documentlist.csv', index=False)"
   ]
  }
 ],
 "metadata": {
  "kernelspec": {
   "display_name": "Python 3 (ipykernel)",
   "language": "python",
   "name": "python3"
  },
  "language_info": {
   "codemirror_mode": {
    "name": "ipython",
    "version": 3
   },
   "file_extension": ".py",
   "mimetype": "text/x-python",
   "name": "python",
   "nbconvert_exporter": "python",
   "pygments_lexer": "ipython3",
   "version": "3.12.4"
  }
 },
 "nbformat": 4,
 "nbformat_minor": 5
}
