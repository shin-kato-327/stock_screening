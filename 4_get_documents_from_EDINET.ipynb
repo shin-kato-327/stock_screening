{
 "cells": [
  {
   "cell_type": "markdown",
   "id": "0eeefadb-c0ce-484f-8eb5-3c26adb7f395",
   "metadata": {},
   "source": [
    "- This notebook\n",
    "- Identifies all the document ids to obtain from the EDINET API\n",
    "- Leaves only xbrl and xsd files"
   ]
  },
  {
   "cell_type": "code",
   "execution_count": 1,
   "id": "dada3f24-75fd-4403-b3fd-168e22ce00f5",
   "metadata": {},
   "outputs": [],
   "source": [
    "import pandas as pd\n",
    "from sqlalchemy import create_engine, Column, String, Integer, MetaData, Table\n",
    "from sqlalchemy.dialects.postgresql import NUMERIC, BIGINT\n",
    "import psycopg2\n",
    "from bs4 import BeautifulSoup\n",
    "import zipfile\n",
    "import io\n",
    "import requests\n",
    "import pandas as pd\n",
    "from tqdm.notebook import tqdm\n",
    "import time\n",
    "import glob\n",
    "import re\n",
    "import json\n",
    "\n",
    "# load const\n",
    "with open('parameters.json', 'r') as file:\n",
    "    data = json.load(file)\n",
    "\n",
    "query = \"\"\"\n",
    "select x.\"Code_x\", y.\"ＥＤＩＮＥＴコード\", z.* \n",
    "from t_short_list x \n",
    "inner join t_edinet_code_mappings y on x.\"Code_x\" = y.\"証券コード\" \n",
    "inner join t_doc_list z on y.\"ＥＤＩＮＥＴコード\" = z.\"edinetCode\"\n",
    "\"\"\"\n",
    "\n",
    "query2 = \"\"\"\n",
    "SELECT \n",
    "    * \n",
    "FROM (\n",
    "    SELECT\n",
    "        Y2.*,\n",
    "        Y3.\"ingestedDocID\"\n",
    "    FROM (\n",
    "        SELECT \n",
    "            X.\"Code_x\",\n",
    "            X.\"ＥＤＩＮＥＴコード\",\n",
    "            MAX(\"periodEnd\") AS latest_period_end\n",
    "        FROM (\n",
    "            SELECT \n",
    "                x.\"Code_x\", \n",
    "                y.\"ＥＤＩＮＥＴコード\", \n",
    "                z.* \n",
    "            FROM \n",
    "                t_short_list x \n",
    "            INNER JOIN \n",
    "                t_edinet_code_mappings y \n",
    "                ON x.\"Code_x\" = y.\"証券コード\" \n",
    "            INNER JOIN \n",
    "                t_doc_list z \n",
    "                ON y.\"ＥＤＩＮＥＴコード\" = z.\"edinetCode\"\n",
    "        ) X\n",
    "        GROUP BY \n",
    "            X.\"Code_x\", \n",
    "            X.\"ＥＤＩＮＥＴコード\"\n",
    "    ) Y1 \n",
    "    INNER JOIN\n",
    "        t_doc_list Y2 \n",
    "        ON Y1.\"ＥＤＩＮＥＴコード\" = Y2.\"edinetCode\" \n",
    "        AND Y1.latest_period_end = Y2.\"periodEnd\"\n",
    "    LEFT OUTER JOIN (\n",
    "        SELECT DISTINCT \"docID\" AS \"ingestedDocID\" \n",
    "        FROM t_financials\n",
    "    ) Y3 \n",
    "    ON Y2.\"docID\" = Y3.\"ingestedDocID\"\n",
    ") XYZ\n",
    "WHERE\n",
    "    XYZ.\"ingestedDocID\" IS NULL;\n",
    "\n",
    "\"\"\"\n",
    "\n",
    "# Define the database connection string (update with your PostgreSQL details)\n",
    "DATABASE_URI = data[\"DATABASE_URI\"]\n",
    "EDINET_KEY = data[\"EDINET_KEY\"]\n",
    "\n",
    "# Create an engine and metadata object\n",
    "engine = create_engine(DATABASE_URI)"
   ]
  },
  {
   "cell_type": "code",
   "execution_count": 5,
   "id": "7655271a-53b2-48a9-8b9f-37209f4bdf68",
   "metadata": {},
   "outputs": [],
   "source": [
    "class GetReportFromEdinet:\n",
    "\n",
    "    def __init__(self,docid_list):\n",
    "        self.docid_list = docid_list\n",
    "\n",
    "    def get_xbrl_file(self):\n",
    "        for docid in tqdm(self.docid_list):\n",
    "            # 書類取得APIのエンドポイント\n",
    "            url = \"https://api.edinet-fsa.go.jp/api/v2/documents/\" + docid\n",
    "#            print(url)\n",
    "            time.sleep(5)\n",
    "\n",
    "\n",
    "            #書類取得APIのパラメータ\n",
    "            params ={\"type\":1,\"Subscription-Key\":EDINET_KEY}\n",
    "            res = requests.get(url,params=params, verify=False)\n",
    "\n",
    "            #ファイルへの出力\n",
    "#            print(res.status_code)\n",
    "            if res.status_code == 200:\n",
    "            # レスポンスからZIPファイルを読み込む\n",
    "                try:\n",
    "                    with zipfile.ZipFile(io.BytesIO(res.content)) as z:\n",
    "                    # ZIPファイル内のすべてのファイルをループ処理\n",
    "                        for file in z.namelist():\n",
    "                            if file.startswith(\"XBRL/PublicDoc/\") and (file.endswith(\".xsd\") or file.endswith(\".xbrl\")):\n",
    "                            # .xbrlもしくは.xsdファイルを見つけたら、それをディスクに書き込む\n",
    "                                z.extract(file, path=f'./content/{docid}/')\n",
    "                except:\n",
    "                    continue"
   ]
  },
  {
   "cell_type": "code",
   "execution_count": 7,
   "id": "a807fe86-bc37-4ef8-a715-ab812a639201",
   "metadata": {},
   "outputs": [
    {
     "data": {
      "application/vnd.jupyter.widget-view+json": {
       "model_id": "93b42751d434414c85bb099f4e60594a",
       "version_major": 2,
       "version_minor": 0
      },
      "text/plain": [
       "  0%|          | 0/1 [00:00<?, ?it/s]"
      ]
     },
     "metadata": {},
     "output_type": "display_data"
    },
    {
     "name": "stderr",
     "output_type": "stream",
     "text": [
      "/opt/anaconda3/envs/myenv/lib/python3.12/site-packages/urllib3/connectionpool.py:1099: InsecureRequestWarning: Unverified HTTPS request is being made to host 'api.edinet-fsa.go.jp'. Adding certificate verification is strongly advised. See: https://urllib3.readthedocs.io/en/latest/advanced-usage.html#tls-warnings\n",
      "  warnings.warn(\n"
     ]
    }
   ],
   "source": [
    "df = pd.read_sql(query2, engine)\n",
    "docid_list = df[\"docID\"].values\n",
    "grfe = GetReportFromEdinet(docid_list)\n",
    "grfe.get_xbrl_file()"
   ]
  }
 ],
 "metadata": {
  "kernelspec": {
   "display_name": "Python 3 (ipykernel)",
   "language": "python",
   "name": "python3"
  },
  "language_info": {
   "codemirror_mode": {
    "name": "ipython",
    "version": 3
   },
   "file_extension": ".py",
   "mimetype": "text/x-python",
   "name": "python",
   "nbconvert_exporter": "python",
   "pygments_lexer": "ipython3",
   "version": "3.12.4"
  }
 },
 "nbformat": 4,
 "nbformat_minor": 5
}
