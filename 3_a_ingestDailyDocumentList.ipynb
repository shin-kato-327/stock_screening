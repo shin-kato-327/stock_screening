{
 "cells": [
  {
   "cell_type": "code",
   "execution_count": 1,
   "id": "3a604dce-0529-4d67-92e6-0761083d75eb",
   "metadata": {},
   "outputs": [],
   "source": [
    "import pandas as pd\n",
    "from sqlalchemy import create_engine, Column, String, Integer, MetaData, Table\n",
    "from sqlalchemy.dialects.postgresql import NUMERIC, BIGINT\n",
    "import psycopg2\n",
    "import glob\n",
    "import shutil\n",
    "import os\n",
    "import json\n",
    "\n",
    "# load const\n",
    "with open('parameters.json', 'r') as file:\n",
    "    data = json.load(file)\n",
    "\n",
    "#establish connection with PG\n",
    "# Define the database connection string (update with your PostgreSQL details)\n",
    "DATABASE_URI = data[\"DATABASE_URI\"]\n",
    "\n",
    "# Create an engine and metadata object\n",
    "engine = create_engine(DATABASE_URI)\n",
    "metadata = MetaData()\n",
    "\n",
    "ingested_CSV_path = \"./csv_data/documentList/Ingested\""
   ]
  },
  {
   "cell_type": "code",
   "execution_count": 10,
   "id": "417e43ba-3097-4d36-8d5d-2b68fbd4f1c0",
   "metadata": {},
   "outputs": [],
   "source": [
    "csv_dirs = list()\n",
    "\n",
    "for csv_dir in glob.glob('./csv_data/documentList/*.csv'):\n",
    "    csv_dirs.append(csv_dir)\n",
    "\n",
    "for csv_file in csv_dirs:\n",
    "    file_path = csv_file\n",
    "    df = pd.read_csv(file_path)\n",
    "    df.to_sql('t_doc_list', con=engine, if_exists='append', index=False)\n",
    "    # Move the file to the destination directory\n",
    "    shutil.move(file_path, os.path.join(ingested_CSV_path, os.path.basename(file_path)))"
   ]
  }
 ],
 "metadata": {
  "kernelspec": {
   "display_name": "Python 3 (ipykernel)",
   "language": "python",
   "name": "python3"
  },
  "language_info": {
   "codemirror_mode": {
    "name": "ipython",
    "version": 3
   },
   "file_extension": ".py",
   "mimetype": "text/x-python",
   "name": "python",
   "nbconvert_exporter": "python",
   "pygments_lexer": "ipython3",
   "version": "3.12.4"
  }
 },
 "nbformat": 4,
 "nbformat_minor": 5
}
